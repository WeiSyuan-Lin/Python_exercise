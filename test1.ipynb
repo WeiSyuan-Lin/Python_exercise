{
 "cells": [
  {
   "cell_type": "code",
   "execution_count": 1,
   "id": "0531d8cd",
   "metadata": {},
   "outputs": [
    {
     "name": "stdout",
     "output_type": "stream",
     "text": [
      "D:\\Python\\code\n",
      "D:\\Python\\python310.zip\n",
      "D:\\Python\\DLLs\n",
      "D:\\Python\\lib\n",
      "D:\\Python\n",
      "D:\\Python\\env\\WSLpython\n",
      "\n",
      "D:\\Python\\env\\WSLpython\\lib\\site-packages\n",
      "D:\\Python\\env\\WSLpython\\lib\\site-packages\\win32\n",
      "D:\\Python\\env\\WSLpython\\lib\\site-packages\\win32\\lib\n",
      "D:\\Python\\env\\WSLpython\\lib\\site-packages\\Pythonwin\n",
      "[[2]\n",
      " [4]]\n"
     ]
    }
   ],
   "source": [
    "import sys  \n",
    "import numpy as np\n",
    "module = sys.path \n",
    "for i in module:      \n",
    "    print(i) \n",
    "a=np.array([2,4]).reshape(2,1)\n",
    "print(a)"
   ]
  },
  {
   "cell_type": "code",
   "execution_count": 2,
   "id": "5f968a73",
   "metadata": {},
   "outputs": [
    {
     "name": "stdout",
     "output_type": "stream",
     "text": [
      "hi\n"
     ]
    }
   ],
   "source": [
    "print('hi')"
   ]
  },
  {
   "cell_type": "code",
   "execution_count": 3,
   "id": "3e03ba36-243c-44f8-804d-17702853eb4d",
   "metadata": {},
   "outputs": [],
   "source": [
    "b=10"
   ]
  },
  {
   "cell_type": "code",
   "execution_count": 4,
   "id": "74a2f6f1-c30a-45ff-be3e-b5f3c87c7111",
   "metadata": {},
   "outputs": [
    {
     "data": {
      "text/plain": [
       "100"
      ]
     },
     "execution_count": 4,
     "metadata": {},
     "output_type": "execute_result"
    }
   ],
   "source": [
    "b**2"
   ]
  }
 ],
 "metadata": {
  "jupytext": {
   "cell_metadata_filter": "-all",
   "formats": "ipynb,auto:percent",
   "main_language": "python",
   "notebook_metadata_filter": "-all"
  },
  "kernelspec": {
   "display_name": "Python 3 (ipykernel)",
   "language": "python",
   "name": "python3"
  },
  "language_info": {
   "codemirror_mode": {
    "name": "ipython",
    "version": 3
   },
   "file_extension": ".py",
   "mimetype": "text/x-python",
   "name": "python",
   "nbconvert_exporter": "python",
   "pygments_lexer": "ipython3",
   "version": "3.10.5"
  }
 },
 "nbformat": 4,
 "nbformat_minor": 5
}
