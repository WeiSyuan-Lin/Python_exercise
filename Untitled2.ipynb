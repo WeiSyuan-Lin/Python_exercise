{
 "cells": [
  {
   "cell_type": "code",
   "execution_count": 1,
   "id": "9bc4ea05-c2f3-46bc-97bf-a1348b6126d3",
   "metadata": {},
   "outputs": [
    {
     "name": "stdout",
     "output_type": "stream",
     "text": [
      "Looking in links: https://download.pytorch.org/whl/cpu/torch_stable.html\n",
      "Requirement already satisfied: torch==1.11.0+cpu in d:\\python\\env\\wslpython\\lib\\site-packages (1.11.0+cpu)\n",
      "Requirement already satisfied: torchvision==0.12.0+cpu in d:\\python\\env\\wslpython\\lib\\site-packages (0.12.0+cpu)\n",
      "Requirement already satisfied: torchaudio==0.11.0+cpu in d:\\python\\env\\wslpython\\lib\\site-packages (0.11.0+cpu)\n",
      "Requirement already satisfied: typing-extensions in d:\\python\\env\\wslpython\\lib\\site-packages (from torch==1.11.0+cpu) (4.2.0)\n",
      "Requirement already satisfied: requests in d:\\python\\env\\wslpython\\lib\\site-packages (from torchvision==0.12.0+cpu) (2.28.0)\n",
      "Requirement already satisfied: numpy in d:\\python\\env\\wslpython\\lib\\site-packages (from torchvision==0.12.0+cpu) (1.22.4)\n",
      "Requirement already satisfied: pillow!=8.3.*,>=5.3.0 in d:\\python\\env\\wslpython\\lib\\site-packages (from torchvision==0.12.0+cpu) (9.1.1)\n",
      "Requirement already satisfied: idna<4,>=2.5 in d:\\python\\env\\wslpython\\lib\\site-packages (from requests->torchvision==0.12.0+cpu) (3.3)\n",
      "Requirement already satisfied: urllib3<1.27,>=1.21.1 in d:\\python\\env\\wslpython\\lib\\site-packages (from requests->torchvision==0.12.0+cpu) (1.26.9)\n",
      "Requirement already satisfied: charset-normalizer~=2.0.0 in d:\\python\\env\\wslpython\\lib\\site-packages (from requests->torchvision==0.12.0+cpu) (2.0.12)\n",
      "Requirement already satisfied: certifi>=2017.4.17 in d:\\python\\env\\wslpython\\lib\\site-packages (from requests->torchvision==0.12.0+cpu) (2022.6.15)\n"
     ]
    }
   ],
   "source": [
    "# For CUDA 10.2\n",
    "# >>> pip install torch==1.11.0+cu102 torchvision==0.12.0+cu102 torchaudio==0.11.0+cu102 -f https://download.pytorch.org/whl/cu102/torch_stable.html\n",
    "# For CUDA 11.3\n",
    "# >>> pip install torch==1.11.0+cu113 torchvision==0.12.0+cu113 torchaudio==0.11.0+cu113 -f https://download.pytorch.org/whl/cu113/torch_stable.html\n",
    "# For CPU-only build\n",
    "# >>> pip install torch==1.11.0+cpu torchvision==0.12.0+cpu torchaudio==0.11.0+cpu -f https://download.pytorch.org/whl/cpu/torch_stable.html\n",
    "\n",
    "# We're installing the CPU-only build but please select the one that matches your requirements.\n",
    "!pip install torch==1.11.0+cpu torchvision==0.12.0+cpu torchaudio==0.11.0+cpu -f https://download.pytorch.org/whl/cpu/torch_stable.html"
   ]
  },
  {
   "cell_type": "code",
   "execution_count": 3,
   "id": "5dc005c3-a14b-43e6-bcd4-cc409607938b",
   "metadata": {},
   "outputs": [
    {
     "name": "stdout",
     "output_type": "stream",
     "text": [
      "Note: you may need to restart the kernel to use updated packages.\n"
     ]
    },
    {
     "name": "stderr",
     "output_type": "stream",
     "text": [
      "\n",
      "Usage:   \n",
      "  D:\\Python\\env\\WSLpython\\Scripts\\python.exe -m pip install [options] <requirement specifier> [package-index-options] ...\n",
      "  D:\\Python\\env\\WSLpython\\Scripts\\python.exe -m pip install [options] -r <requirements file> [package-index-options] ...\n",
      "  D:\\Python\\env\\WSLpython\\Scripts\\python.exe -m pip install [options] [-e] <vcs project url> ...\n",
      "  D:\\Python\\env\\WSLpython\\Scripts\\python.exe -m pip install [options] [-e] <local project path> ...\n",
      "  D:\\Python\\env\\WSLpython\\Scripts\\python.exe -m pip install [options] <archive url/path> ...\n",
      "\n",
      "no such option: --upgrate\n"
     ]
    }
   ],
   "source": [
    "pip install functorch --upgrate"
   ]
  },
  {
   "cell_type": "code",
   "execution_count": 6,
   "id": "35d90d91-4f23-46a5-aa7c-35965d31c941",
   "metadata": {},
   "outputs": [
    {
     "name": "stdout",
     "output_type": "stream",
     "text": [
      "Collecting pytorch\n",
      "  Using cached pytorch-1.0.2.tar.gz (689 bytes)\n",
      "  Preparing metadata (setup.py): started\n",
      "  Preparing metadata (setup.py): finished with status 'done'\n",
      "Requirement already satisfied: torchvision in d:\\python\\env\\wslpython\\lib\\site-packages (0.12.0+cpu)\n",
      "Requirement already satisfied: torchaudio in d:\\python\\env\\wslpython\\lib\\site-packages (0.11.0+cpu)\n",
      "Note: you may need to restart the kernel to use updated packages.\n"
     ]
    },
    {
     "name": "stderr",
     "output_type": "stream",
     "text": [
      "ERROR: Could not find a version that satisfies the requirement cudatoolkit==11.3 (from versions: none)\n",
      "ERROR: No matching distribution found for cudatoolkit==11.3\n"
     ]
    }
   ],
   "source": [
    "pip install pytorch torchvision torchaudio cudatoolkit==11.3 "
   ]
  },
  {
   "cell_type": "code",
   "execution_count": null,
   "id": "6bb7c3b8-0801-4674-9f6c-fa96d5ff0096",
   "metadata": {},
   "outputs": [],
   "source": []
  }
 ],
 "metadata": {
  "kernelspec": {
   "display_name": "Python 3 (ipykernel)",
   "language": "python",
   "name": "python3"
  },
  "language_info": {
   "codemirror_mode": {
    "name": "ipython",
    "version": 3
   },
   "file_extension": ".py",
   "mimetype": "text/x-python",
   "name": "python",
   "nbconvert_exporter": "python",
   "pygments_lexer": "ipython3",
   "version": "3.10.5"
  }
 },
 "nbformat": 4,
 "nbformat_minor": 5
}
